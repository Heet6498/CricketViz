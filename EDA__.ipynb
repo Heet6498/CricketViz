{
 "cells": [
  {
   "cell_type": "code",
   "execution_count": 1,
   "metadata": {},
   "outputs": [],
   "source": [
    "import numpy as np\n",
    "import pandas as pd\n",
    "from statistics import *\n",
    "import seaborn as sns\n",
    "import matplotlib.pyplot as plt"
   ]
  },
  {
   "cell_type": "code",
   "execution_count": 2,
   "metadata": {},
   "outputs": [
    {
     "name": "stdout",
     "output_type": "stream",
     "text": [
      "    team result      margin   br  toss  bat    opposition      ground  date  \\\n",
      "0  India   lost   4 wickets   23  lost  NaN       England       Leeds  1974   \n",
      "1  India   lost   6 wickets   37   won  1st       England    The Oval  1974   \n",
      "2  India   lost    202 runs  NaN  lost  2nd       England      Lord's  1975   \n",
      "3  India    won  10 wickets  181  lost  2nd  South Africa       Leeds  1975   \n",
      "4  India   lost   4 wickets    7   won  1st   New Zealand  Manchester  1975   \n",
      "\n",
      "                                                 url scrapped_date  \n",
      "0  https://stats.espncricinfo.com/ci/engine/stats...    2021-02-05  \n",
      "1  https://stats.espncricinfo.com/ci/engine/stats...    2021-02-05  \n",
      "2  https://stats.espncricinfo.com/ci/engine/stats...    2021-02-05  \n",
      "3  https://stats.espncricinfo.com/ci/engine/stats...    2021-02-05  \n",
      "4  https://stats.espncricinfo.com/ci/engine/stats...    2021-02-05  \n"
     ]
    }
   ],
   "source": [
    "#load dataset\n",
    "#df = pd.read_csv(\"final.csv\")\n",
    "\n",
    "\n",
    "from pandas import read_excel\n",
    "my_sheet = 'final' \n",
    "file_name = 'final.xlsx' \n",
    "df = read_excel(file_name, sheet_name = my_sheet)\n",
    "print(df.head()) "
   ]
  },
  {
   "cell_type": "code",
   "execution_count": 4,
   "metadata": {},
   "outputs": [
    {
     "name": "stdout",
     "output_type": "stream",
     "text": [
      "<class 'pandas.core.frame.DataFrame'>\n",
      "RangeIndex: 984 entries, 0 to 983\n",
      "Data columns (total 11 columns):\n",
      " #   Column         Non-Null Count  Dtype         \n",
      "---  ------         --------------  -----         \n",
      " 0   team           984 non-null    object        \n",
      " 1   result         928 non-null    object        \n",
      " 2   margin         927 non-null    object        \n",
      " 3   br             504 non-null    object        \n",
      " 4   toss           871 non-null    object        \n",
      " 5   bat            756 non-null    object        \n",
      " 6   opposition     984 non-null    object        \n",
      " 7   ground         984 non-null    object        \n",
      " 8   date           984 non-null    int64         \n",
      " 9   url            984 non-null    object        \n",
      " 10  scrapped_date  984 non-null    datetime64[ns]\n",
      "dtypes: datetime64[ns](1), int64(1), object(9)\n",
      "memory usage: 84.7+ KB\n"
     ]
    }
   ],
   "source": [
    "df.info()"
   ]
  },
  {
   "cell_type": "code",
   "execution_count": 5,
   "metadata": {},
   "outputs": [
    {
     "data": {
      "text/html": [
       "<div>\n",
       "<style scoped>\n",
       "    .dataframe tbody tr th:only-of-type {\n",
       "        vertical-align: middle;\n",
       "    }\n",
       "\n",
       "    .dataframe tbody tr th {\n",
       "        vertical-align: top;\n",
       "    }\n",
       "\n",
       "    .dataframe thead th {\n",
       "        text-align: right;\n",
       "    }\n",
       "</style>\n",
       "<table border=\"1\" class=\"dataframe\">\n",
       "  <thead>\n",
       "    <tr style=\"text-align: right;\">\n",
       "      <th></th>\n",
       "      <th>team</th>\n",
       "      <th>result</th>\n",
       "      <th>margin</th>\n",
       "      <th>br</th>\n",
       "      <th>toss</th>\n",
       "      <th>bat</th>\n",
       "      <th>opposition</th>\n",
       "      <th>ground</th>\n",
       "      <th>date</th>\n",
       "      <th>url</th>\n",
       "      <th>scrapped_date</th>\n",
       "    </tr>\n",
       "  </thead>\n",
       "  <tbody>\n",
       "    <tr>\n",
       "      <th>0</th>\n",
       "      <td>India</td>\n",
       "      <td>lost</td>\n",
       "      <td>4 wickets</td>\n",
       "      <td>23</td>\n",
       "      <td>lost</td>\n",
       "      <td>NaN</td>\n",
       "      <td>England</td>\n",
       "      <td>Leeds</td>\n",
       "      <td>1974</td>\n",
       "      <td>https://stats.espncricinfo.com/ci/engine/stats...</td>\n",
       "      <td>2021-02-05</td>\n",
       "    </tr>\n",
       "    <tr>\n",
       "      <th>1</th>\n",
       "      <td>India</td>\n",
       "      <td>lost</td>\n",
       "      <td>6 wickets</td>\n",
       "      <td>37</td>\n",
       "      <td>won</td>\n",
       "      <td>1st</td>\n",
       "      <td>England</td>\n",
       "      <td>The Oval</td>\n",
       "      <td>1974</td>\n",
       "      <td>https://stats.espncricinfo.com/ci/engine/stats...</td>\n",
       "      <td>2021-02-05</td>\n",
       "    </tr>\n",
       "    <tr>\n",
       "      <th>2</th>\n",
       "      <td>India</td>\n",
       "      <td>lost</td>\n",
       "      <td>202 runs</td>\n",
       "      <td>NaN</td>\n",
       "      <td>lost</td>\n",
       "      <td>2nd</td>\n",
       "      <td>England</td>\n",
       "      <td>Lord's</td>\n",
       "      <td>1975</td>\n",
       "      <td>https://stats.espncricinfo.com/ci/engine/stats...</td>\n",
       "      <td>2021-02-05</td>\n",
       "    </tr>\n",
       "    <tr>\n",
       "      <th>3</th>\n",
       "      <td>India</td>\n",
       "      <td>won</td>\n",
       "      <td>10 wickets</td>\n",
       "      <td>181</td>\n",
       "      <td>lost</td>\n",
       "      <td>2nd</td>\n",
       "      <td>South Africa</td>\n",
       "      <td>Leeds</td>\n",
       "      <td>1975</td>\n",
       "      <td>https://stats.espncricinfo.com/ci/engine/stats...</td>\n",
       "      <td>2021-02-05</td>\n",
       "    </tr>\n",
       "    <tr>\n",
       "      <th>4</th>\n",
       "      <td>India</td>\n",
       "      <td>lost</td>\n",
       "      <td>4 wickets</td>\n",
       "      <td>7</td>\n",
       "      <td>won</td>\n",
       "      <td>1st</td>\n",
       "      <td>New Zealand</td>\n",
       "      <td>Manchester</td>\n",
       "      <td>1975</td>\n",
       "      <td>https://stats.espncricinfo.com/ci/engine/stats...</td>\n",
       "      <td>2021-02-05</td>\n",
       "    </tr>\n",
       "  </tbody>\n",
       "</table>\n",
       "</div>"
      ],
      "text/plain": [
       "    team result      margin   br  toss  bat    opposition      ground  date  \\\n",
       "0  India   lost   4 wickets   23  lost  NaN       England       Leeds  1974   \n",
       "1  India   lost   6 wickets   37   won  1st       England    The Oval  1974   \n",
       "2  India   lost    202 runs  NaN  lost  2nd       England      Lord's  1975   \n",
       "3  India    won  10 wickets  181  lost  2nd  South Africa       Leeds  1975   \n",
       "4  India   lost   4 wickets    7   won  1st   New Zealand  Manchester  1975   \n",
       "\n",
       "                                                 url scrapped_date  \n",
       "0  https://stats.espncricinfo.com/ci/engine/stats...    2021-02-05  \n",
       "1  https://stats.espncricinfo.com/ci/engine/stats...    2021-02-05  \n",
       "2  https://stats.espncricinfo.com/ci/engine/stats...    2021-02-05  \n",
       "3  https://stats.espncricinfo.com/ci/engine/stats...    2021-02-05  \n",
       "4  https://stats.espncricinfo.com/ci/engine/stats...    2021-02-05  "
      ]
     },
     "execution_count": 5,
     "metadata": {},
     "output_type": "execute_result"
    }
   ],
   "source": [
    "df.head()"
   ]
  },
  {
   "cell_type": "code",
   "execution_count": 6,
   "metadata": {},
   "outputs": [
    {
     "data": {
      "text/plain": [
       "team               0\n",
       "result            56\n",
       "margin            57\n",
       "br               480\n",
       "toss             113\n",
       "bat              228\n",
       "opposition         0\n",
       "ground             0\n",
       "date               0\n",
       "url                0\n",
       "scrapped_date      0\n",
       "dtype: int64"
      ]
     },
     "execution_count": 6,
     "metadata": {},
     "output_type": "execute_result"
    }
   ],
   "source": [
    "#Summary of N/A Value\n",
    "df.isnull().sum()"
   ]
  },
  {
   "cell_type": "code",
   "execution_count": 7,
   "metadata": {},
   "outputs": [
    {
     "data": {
      "image/png": "[encoded data removed]",
      "text/plain": [
       "<Figure size 1728x720 with 3 Axes>"
      ]
     },
     "metadata": {
      "needs_background": "light"
     },
     "output_type": "display_data"
    }
   ],
   "source": [
    "import missingno as msno\n",
    "msno.bar(df);"
   ]
  },
  {
   "cell_type": "code",
   "execution_count": 12,
   "metadata": {},
   "outputs": [
    {
     "name": "stdout",
     "output_type": "stream",
     "text": [
      "      team result      margin   br  toss  bat    opposition      ground  date  \\\n",
      "0    India   lost   4 wickets   23  lost  NaN       England       Leeds  1974   \n",
      "1    India   lost   6 wickets   37   won  1st       England    The Oval  1974   \n",
      "2    India   lost    202 runs  NaN  lost  2nd       England      Lord's  1975   \n",
      "3    India    won  10 wickets  181  lost  2nd  South Africa       Leeds  1975   \n",
      "4    India   lost   4 wickets    7   won  1st   New Zealand  Manchester  1975   \n",
      "..     ...    ...         ...  ...   ...  ...           ...         ...   ...   \n",
      "979  India    NaN         NaN  NaN   NaN    v  South Africa     Lucknow  2020   \n",
      "980  India    NaN         NaN  NaN   NaN    v  South Africa     Kolkata  2020   \n",
      "981  India   lost     66 runs  NaN  lost  2nd     Australia      Sydney  2020   \n",
      "982  India   lost     51 runs  NaN  lost  2nd     Australia      Sydney  2020   \n",
      "983  India    won     13 runs  NaN   won  1st     Australia    Canberra  2020   \n",
      "\n",
      "                                                   url scrapped_date  \n",
      "0    https://stats.espncricinfo.com/ci/engine/stats...    2021-02-05  \n",
      "1    https://stats.espncricinfo.com/ci/engine/stats...    2021-02-05  \n",
      "2    https://stats.espncricinfo.com/ci/engine/stats...    2021-02-05  \n",
      "3    https://stats.espncricinfo.com/ci/engine/stats...    2021-02-05  \n",
      "4    https://stats.espncricinfo.com/ci/engine/stats...    2021-02-05  \n",
      "..                                                 ...           ...  \n",
      "979  https://stats.espncricinfo.com/ci/engine/stats...    2021-02-05  \n",
      "980  https://stats.espncricinfo.com/ci/engine/stats...    2021-02-05  \n",
      "981  https://stats.espncricinfo.com/ci/engine/stats...    2021-02-05  \n",
      "982  https://stats.espncricinfo.com/ci/engine/stats...    2021-02-05  \n",
      "983  https://stats.espncricinfo.com/ci/engine/stats...    2021-02-05  \n",
      "\n",
      "[984 rows x 11 columns]\n"
     ]
    },
    {
     "name": "stderr",
     "output_type": "stream",
     "text": [
      "C:\\Users\\19055\\Anaconda3\\envs\\aidi-1100\\lib\\site-packages\\ipykernel_launcher.py:1: FutureWarning: DataFrame.mean and DataFrame.median with numeric_only=None will include datetime64 and datetime64tz columns in a future version.\n",
      "  \"\"\"Entry point for launching an IPython kernel.\n"
     ]
    }
   ],
   "source": [
    "df = df.fillna(df.mean())\n",
    "print(df)"
   ]
  },
  {
   "cell_type": "code",
   "execution_count": 13,
   "metadata": {},
   "outputs": [],
   "source": [
    "df = df['br'].fillna(median)"
   ]
  },
  {
   "cell_type": "code",
   "execution_count": 15,
   "metadata": {},
   "outputs": [
    {
     "data": {
      "text/plain": [
       "0"
      ]
     },
     "execution_count": 15,
     "metadata": {},
     "output_type": "execute_result"
    }
   ],
   "source": [
    "#Summary of N/A Value\n",
    "df.isnull().sum()"
   ]
  },
  {
   "cell_type": "code",
   "execution_count": 14,
   "metadata": {},
   "outputs": [
    {
     "data": {
      "text/plain": [
       "0                                         23\n",
       "1                                         37\n",
       "2    <function median at 0x000001BB743C2EE8>\n",
       "3                                        181\n",
       "4                                          7\n",
       "Name: br, dtype: object"
      ]
     },
     "execution_count": 14,
     "metadata": {},
     "output_type": "execute_result"
    }
   ],
   "source": [
    "df.head()"
   ]
  },
  {
   "cell_type": "code",
   "execution_count": null,
   "metadata": {},
   "outputs": [],
   "source": []
  },
  {
   "cell_type": "code",
   "execution_count": null,
   "metadata": {},
   "outputs": [],
   "source": []
  }
 ],
 "metadata": {
  "kernelspec": {
   "display_name": "Python 3",
   "language": "python",
   "name": "python3"
  },
  "language_info": {
   "codemirror_mode": {
    "name": "ipython",
    "version": 3
   },
   "file_extension": ".py",
   "mimetype": "text/x-python",
   "name": "python",
   "nbconvert_exporter": "python",
   "pygments_lexer": "ipython3",
   "version": "3.7.9"
  }
 },
 "nbformat": 4,
 "nbformat_minor": 4
}

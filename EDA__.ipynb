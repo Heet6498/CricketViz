{
 "cells": [
  {
   "cell_type": "code",
   "execution_count": 1,
   "metadata": {},
   "outputs": [],
   "source": [
    "import numpy as np\n",
    "import pandas as pd\n",
    "from statistics import *\n",
    "import seaborn as sns\n",
    "import matplotlib.pyplot as plt"
   ]
  },
  {
   "cell_type": "code",
   "execution_count": 2,
   "metadata": {},
   "outputs": [],
   "source": [
    "#load dataset\n",
    "df = pd.read_csv(\"final.csv\")"
   ]
  },
  {
   "cell_type": "code",
   "execution_count": 3,
   "metadata": {},
   "outputs": [
    {
     "name": "stdout",
     "output_type": "stream",
     "text": [
      "<class 'pandas.core.frame.DataFrame'>\n",
      "RangeIndex: 984 entries, 0 to 983\n",
      "Data columns (total 11 columns):\n",
      " #   Column         Non-Null Count  Dtype \n",
      "---  ------         --------------  ----- \n",
      " 0   team           984 non-null    object\n",
      " 1   result         928 non-null    object\n",
      " 2   margin         927 non-null    object\n",
      " 3   br             504 non-null    object\n",
      " 4   toss           871 non-null    object\n",
      " 5   bat            756 non-null    object\n",
      " 6   opposition     984 non-null    object\n",
      " 7   ground         984 non-null    object\n",
      " 8   date           984 non-null    int64 \n",
      " 9   url            984 non-null    object\n",
      " 10  scrapped_date  984 non-null    object\n",
      "dtypes: int64(1), object(10)\n",
      "memory usage: 84.7+ KB\n"
     ]
    }
   ],
   "source": [
    "df.info()"
   ]
  },
  {
   "cell_type": "code",
   "execution_count": 4,
   "metadata": {},
   "outputs": [
    {
     "data": {
      "text/html": [
       "<div>\n",
       "<style scoped>\n",
       "    .dataframe tbody tr th:only-of-type {\n",
       "        vertical-align: middle;\n",
       "    }\n",
       "\n",
       "    .dataframe tbody tr th {\n",
       "        vertical-align: top;\n",
       "    }\n",
       "\n",
       "    .dataframe thead th {\n",
       "        text-align: right;\n",
       "    }\n",
       "</style>\n",
       "<table border=\"1\" class=\"dataframe\">\n",
       "  <thead>\n",
       "    <tr style=\"text-align: right;\">\n",
       "      <th></th>\n",
       "      <th>team</th>\n",
       "      <th>result</th>\n",
       "      <th>margin</th>\n",
       "      <th>br</th>\n",
       "      <th>toss</th>\n",
       "      <th>bat</th>\n",
       "      <th>opposition</th>\n",
       "      <th>ground</th>\n",
       "      <th>date</th>\n",
       "      <th>url</th>\n",
       "      <th>scrapped_date</th>\n",
       "    </tr>\n",
       "  </thead>\n",
       "  <tbody>\n",
       "    <tr>\n",
       "      <th>0</th>\n",
       "      <td>India</td>\n",
       "      <td>lost</td>\n",
       "      <td>4 wickets</td>\n",
       "      <td>23</td>\n",
       "      <td>lost</td>\n",
       "      <td>NaN</td>\n",
       "      <td>England</td>\n",
       "      <td>Leeds</td>\n",
       "      <td>1974</td>\n",
       "      <td>https://stats.espncricinfo.com/ci/engine/stats...</td>\n",
       "      <td>2021-02-05</td>\n",
       "    </tr>\n",
       "    <tr>\n",
       "      <th>1</th>\n",
       "      <td>India</td>\n",
       "      <td>lost</td>\n",
       "      <td>6 wickets</td>\n",
       "      <td>37</td>\n",
       "      <td>won</td>\n",
       "      <td>1st</td>\n",
       "      <td>England</td>\n",
       "      <td>The Oval</td>\n",
       "      <td>1974</td>\n",
       "      <td>https://stats.espncricinfo.com/ci/engine/stats...</td>\n",
       "      <td>2021-02-05</td>\n",
       "    </tr>\n",
       "    <tr>\n",
       "      <th>2</th>\n",
       "      <td>India</td>\n",
       "      <td>lost</td>\n",
       "      <td>202 runs</td>\n",
       "      <td>NaN</td>\n",
       "      <td>lost</td>\n",
       "      <td>2nd</td>\n",
       "      <td>England</td>\n",
       "      <td>Lord's</td>\n",
       "      <td>1975</td>\n",
       "      <td>https://stats.espncricinfo.com/ci/engine/stats...</td>\n",
       "      <td>2021-02-05</td>\n",
       "    </tr>\n",
       "    <tr>\n",
       "      <th>3</th>\n",
       "      <td>India</td>\n",
       "      <td>won</td>\n",
       "      <td>10 wickets</td>\n",
       "      <td>181</td>\n",
       "      <td>lost</td>\n",
       "      <td>2nd</td>\n",
       "      <td>South Africa</td>\n",
       "      <td>Leeds</td>\n",
       "      <td>1975</td>\n",
       "      <td>https://stats.espncricinfo.com/ci/engine/stats...</td>\n",
       "      <td>2021-02-05</td>\n",
       "    </tr>\n",
       "    <tr>\n",
       "      <th>4</th>\n",
       "      <td>India</td>\n",
       "      <td>lost</td>\n",
       "      <td>4 wickets</td>\n",
       "      <td>7</td>\n",
       "      <td>won</td>\n",
       "      <td>1st</td>\n",
       "      <td>New Zealand</td>\n",
       "      <td>Manchester</td>\n",
       "      <td>1975</td>\n",
       "      <td>https://stats.espncricinfo.com/ci/engine/stats...</td>\n",
       "      <td>2021-02-05</td>\n",
       "    </tr>\n",
       "  </tbody>\n",
       "</table>\n",
       "</div>"
      ],
      "text/plain": [
       "    team result      margin   br  toss  bat    opposition      ground  date  \\\n",
       "0  India   lost   4 wickets   23  lost  NaN       England       Leeds  1974   \n",
       "1  India   lost   6 wickets   37   won  1st       England    The Oval  1974   \n",
       "2  India   lost    202 runs  NaN  lost  2nd       England      Lord's  1975   \n",
       "3  India    won  10 wickets  181  lost  2nd  South Africa       Leeds  1975   \n",
       "4  India   lost   4 wickets    7   won  1st   New Zealand  Manchester  1975   \n",
       "\n",
       "                                                 url scrapped_date  \n",
       "0  https://stats.espncricinfo.com/ci/engine/stats...    2021-02-05  \n",
       "1  https://stats.espncricinfo.com/ci/engine/stats...    2021-02-05  \n",
       "2  https://stats.espncricinfo.com/ci/engine/stats...    2021-02-05  \n",
       "3  https://stats.espncricinfo.com/ci/engine/stats...    2021-02-05  \n",
       "4  https://stats.espncricinfo.com/ci/engine/stats...    2021-02-05  "
      ]
     },
     "execution_count": 4,
     "metadata": {},
     "output_type": "execute_result"
    }
   ],
   "source": [
    "df.head()"
   ]
  },
  {
   "cell_type": "code",
   "execution_count": 5,
   "metadata": {},
   "outputs": [
    {
     "data": {
      "text/plain": [
       "team               0\n",
       "result            56\n",
       "margin            57\n",
       "br               480\n",
       "toss             113\n",
       "bat              228\n",
       "opposition         0\n",
       "ground             0\n",
       "date               0\n",
       "url                0\n",
       "scrapped_date      0\n",
       "dtype: int64"
      ]
     },
     "execution_count": 5,
     "metadata": {},
     "output_type": "execute_result"
    }
   ],
   "source": [
    "#Summary of N/A Value\n",
    "df.isnull().sum()"
   ]
  },
  {
   "cell_type": "code",
   "execution_count": 6,
   "metadata": {},
   "outputs": [
    {
     "data": {
      "image/png": "[encoded data removed]",
      "text/plain": [
       "<Figure size 1728x720 with 3 Axes>"
      ]
     },
     "metadata": {
      "needs_background": "light"
     },
     "output_type": "display_data"
    }
   ],
   "source": [
    "import missingno as msno\n",
    "msno.bar(df);"
   ]
  },
  {
   "cell_type": "code",
   "execution_count": 7,
   "metadata": {},
   "outputs": [],
   "source": [
    "df['toss'] = df['toss'].map( {'lost':0, 'won':1,})"
   ]
  },
  {
   "cell_type": "code",
   "execution_count": 8,
   "metadata": {},
   "outputs": [],
   "source": [
    "df['result'] = df['result'].map( {'lost':0, 'won':1,})"
   ]
  },
  {
   "cell_type": "code",
   "execution_count": 9,
   "metadata": {},
   "outputs": [],
   "source": [
    "df['bat'] = df['bat'].map( {'1st':1, '2nd':2,})"
   ]
  },
  {
   "cell_type": "code",
   "execution_count": 10,
   "metadata": {},
   "outputs": [],
   "source": [
    "df=df.drop(['url','scrapped_date','date'],axis=1)"
   ]
  },
  {
   "cell_type": "code",
   "execution_count": 11,
   "metadata": {},
   "outputs": [
    {
     "data": {
      "text/html": [
       "<div>\n",
       "<style scoped>\n",
       "    .dataframe tbody tr th:only-of-type {\n",
       "        vertical-align: middle;\n",
       "    }\n",
       "\n",
       "    .dataframe tbody tr th {\n",
       "        vertical-align: top;\n",
       "    }\n",
       "\n",
       "    .dataframe thead th {\n",
       "        text-align: right;\n",
       "    }\n",
       "</style>\n",
       "<table border=\"1\" class=\"dataframe\">\n",
       "  <thead>\n",
       "    <tr style=\"text-align: right;\">\n",
       "      <th></th>\n",
       "      <th>team</th>\n",
       "      <th>result</th>\n",
       "      <th>margin</th>\n",
       "      <th>br</th>\n",
       "      <th>toss</th>\n",
       "      <th>bat</th>\n",
       "      <th>opposition</th>\n",
       "      <th>ground</th>\n",
       "    </tr>\n",
       "  </thead>\n",
       "  <tbody>\n",
       "    <tr>\n",
       "      <th>0</th>\n",
       "      <td>India</td>\n",
       "      <td>0.0</td>\n",
       "      <td>4 wickets</td>\n",
       "      <td>23</td>\n",
       "      <td>0.0</td>\n",
       "      <td>NaN</td>\n",
       "      <td>England</td>\n",
       "      <td>Leeds</td>\n",
       "    </tr>\n",
       "    <tr>\n",
       "      <th>1</th>\n",
       "      <td>India</td>\n",
       "      <td>0.0</td>\n",
       "      <td>6 wickets</td>\n",
       "      <td>37</td>\n",
       "      <td>1.0</td>\n",
       "      <td>1.0</td>\n",
       "      <td>England</td>\n",
       "      <td>The Oval</td>\n",
       "    </tr>\n",
       "    <tr>\n",
       "      <th>2</th>\n",
       "      <td>India</td>\n",
       "      <td>0.0</td>\n",
       "      <td>202 runs</td>\n",
       "      <td>NaN</td>\n",
       "      <td>0.0</td>\n",
       "      <td>2.0</td>\n",
       "      <td>England</td>\n",
       "      <td>Lord's</td>\n",
       "    </tr>\n",
       "    <tr>\n",
       "      <th>3</th>\n",
       "      <td>India</td>\n",
       "      <td>1.0</td>\n",
       "      <td>10 wickets</td>\n",
       "      <td>181</td>\n",
       "      <td>0.0</td>\n",
       "      <td>2.0</td>\n",
       "      <td>South Africa</td>\n",
       "      <td>Leeds</td>\n",
       "    </tr>\n",
       "    <tr>\n",
       "      <th>4</th>\n",
       "      <td>India</td>\n",
       "      <td>0.0</td>\n",
       "      <td>4 wickets</td>\n",
       "      <td>7</td>\n",
       "      <td>1.0</td>\n",
       "      <td>1.0</td>\n",
       "      <td>New Zealand</td>\n",
       "      <td>Manchester</td>\n",
       "    </tr>\n",
       "    <tr>\n",
       "      <th>...</th>\n",
       "      <td>...</td>\n",
       "      <td>...</td>\n",
       "      <td>...</td>\n",
       "      <td>...</td>\n",
       "      <td>...</td>\n",
       "      <td>...</td>\n",
       "      <td>...</td>\n",
       "      <td>...</td>\n",
       "    </tr>\n",
       "    <tr>\n",
       "      <th>979</th>\n",
       "      <td>India</td>\n",
       "      <td>NaN</td>\n",
       "      <td>NaN</td>\n",
       "      <td>NaN</td>\n",
       "      <td>NaN</td>\n",
       "      <td>NaN</td>\n",
       "      <td>South Africa</td>\n",
       "      <td>Lucknow</td>\n",
       "    </tr>\n",
       "    <tr>\n",
       "      <th>980</th>\n",
       "      <td>India</td>\n",
       "      <td>NaN</td>\n",
       "      <td>NaN</td>\n",
       "      <td>NaN</td>\n",
       "      <td>NaN</td>\n",
       "      <td>NaN</td>\n",
       "      <td>South Africa</td>\n",
       "      <td>Kolkata</td>\n",
       "    </tr>\n",
       "    <tr>\n",
       "      <th>981</th>\n",
       "      <td>India</td>\n",
       "      <td>0.0</td>\n",
       "      <td>66 runs</td>\n",
       "      <td>NaN</td>\n",
       "      <td>0.0</td>\n",
       "      <td>2.0</td>\n",
       "      <td>Australia</td>\n",
       "      <td>Sydney</td>\n",
       "    </tr>\n",
       "    <tr>\n",
       "      <th>982</th>\n",
       "      <td>India</td>\n",
       "      <td>0.0</td>\n",
       "      <td>51 runs</td>\n",
       "      <td>NaN</td>\n",
       "      <td>0.0</td>\n",
       "      <td>2.0</td>\n",
       "      <td>Australia</td>\n",
       "      <td>Sydney</td>\n",
       "    </tr>\n",
       "    <tr>\n",
       "      <th>983</th>\n",
       "      <td>India</td>\n",
       "      <td>1.0</td>\n",
       "      <td>13 runs</td>\n",
       "      <td>NaN</td>\n",
       "      <td>1.0</td>\n",
       "      <td>1.0</td>\n",
       "      <td>Australia</td>\n",
       "      <td>Canberra</td>\n",
       "    </tr>\n",
       "  </tbody>\n",
       "</table>\n",
       "<p>984 rows × 8 columns</p>\n",
       "</div>"
      ],
      "text/plain": [
       "      team  result      margin   br  toss  bat    opposition      ground\n",
       "0    India     0.0   4 wickets   23   0.0  NaN       England       Leeds\n",
       "1    India     0.0   6 wickets   37   1.0  1.0       England    The Oval\n",
       "2    India     0.0    202 runs  NaN   0.0  2.0       England      Lord's\n",
       "3    India     1.0  10 wickets  181   0.0  2.0  South Africa       Leeds\n",
       "4    India     0.0   4 wickets    7   1.0  1.0   New Zealand  Manchester\n",
       "..     ...     ...         ...  ...   ...  ...           ...         ...\n",
       "979  India     NaN         NaN  NaN   NaN  NaN  South Africa     Lucknow\n",
       "980  India     NaN         NaN  NaN   NaN  NaN  South Africa     Kolkata\n",
       "981  India     0.0     66 runs  NaN   0.0  2.0     Australia      Sydney\n",
       "982  India     0.0     51 runs  NaN   0.0  2.0     Australia      Sydney\n",
       "983  India     1.0     13 runs  NaN   1.0  1.0     Australia    Canberra\n",
       "\n",
       "[984 rows x 8 columns]"
      ]
     },
     "execution_count": 11,
     "metadata": {},
     "output_type": "execute_result"
    }
   ],
   "source": [
    "df"
   ]
  },
  {
   "cell_type": "code",
   "execution_count": 12,
   "metadata": {},
   "outputs": [
    {
     "name": "stdout",
     "output_type": "stream",
     "text": [
      "<class 'pandas.core.frame.DataFrame'>\n",
      "RangeIndex: 984 entries, 0 to 983\n",
      "Data columns (total 8 columns):\n",
      " #   Column      Non-Null Count  Dtype  \n",
      "---  ------      --------------  -----  \n",
      " 0   team        984 non-null    object \n",
      " 1   result      928 non-null    float64\n",
      " 2   margin      927 non-null    object \n",
      " 3   br          504 non-null    object \n",
      " 4   toss        871 non-null    float64\n",
      " 5   bat         643 non-null    float64\n",
      " 6   opposition  984 non-null    object \n",
      " 7   ground      984 non-null    object \n",
      "dtypes: float64(3), object(5)\n",
      "memory usage: 61.6+ KB\n"
     ]
    }
   ],
   "source": [
    "df.info()"
   ]
  },
  {
   "cell_type": "code",
   "execution_count": 13,
   "metadata": {},
   "outputs": [],
   "source": [
    "import os\n",
    "def to_int(x):\n",
    "    '''\n",
    "    This function will try to convert a string into an integer if it is possible,\n",
    "    else it will remain as np.nan\n",
    "    '''\n",
    "    try:\n",
    "        return int(x)\n",
    "    except:\n",
    "        return np.nan\n",
    "df['br'] = df['br'].replace('-', np.nan)\n",
    "df['br'] = df['br'].apply(lambda x : to_int(x))\n",
    "df['br'] = df['br'].fillna(df['br'].mean())"
   ]
  },
  {
   "cell_type": "code",
   "execution_count": 14,
   "metadata": {},
   "outputs": [
    {
     "data": {
      "text/html": [
       "<div>\n",
       "<style scoped>\n",
       "    .dataframe tbody tr th:only-of-type {\n",
       "        vertical-align: middle;\n",
       "    }\n",
       "\n",
       "    .dataframe tbody tr th {\n",
       "        vertical-align: top;\n",
       "    }\n",
       "\n",
       "    .dataframe thead th {\n",
       "        text-align: right;\n",
       "    }\n",
       "</style>\n",
       "<table border=\"1\" class=\"dataframe\">\n",
       "  <thead>\n",
       "    <tr style=\"text-align: right;\">\n",
       "      <th></th>\n",
       "      <th>team</th>\n",
       "      <th>result</th>\n",
       "      <th>margin</th>\n",
       "      <th>br</th>\n",
       "      <th>toss</th>\n",
       "      <th>bat</th>\n",
       "      <th>opposition</th>\n",
       "      <th>ground</th>\n",
       "    </tr>\n",
       "  </thead>\n",
       "  <tbody>\n",
       "    <tr>\n",
       "      <th>0</th>\n",
       "      <td>India</td>\n",
       "      <td>0.0</td>\n",
       "      <td>4 wickets</td>\n",
       "      <td>23.000000</td>\n",
       "      <td>0.0</td>\n",
       "      <td>NaN</td>\n",
       "      <td>England</td>\n",
       "      <td>Leeds</td>\n",
       "    </tr>\n",
       "    <tr>\n",
       "      <th>1</th>\n",
       "      <td>India</td>\n",
       "      <td>0.0</td>\n",
       "      <td>6 wickets</td>\n",
       "      <td>37.000000</td>\n",
       "      <td>1.0</td>\n",
       "      <td>1.0</td>\n",
       "      <td>England</td>\n",
       "      <td>The Oval</td>\n",
       "    </tr>\n",
       "    <tr>\n",
       "      <th>2</th>\n",
       "      <td>India</td>\n",
       "      <td>0.0</td>\n",
       "      <td>202 runs</td>\n",
       "      <td>40.634497</td>\n",
       "      <td>0.0</td>\n",
       "      <td>2.0</td>\n",
       "      <td>England</td>\n",
       "      <td>Lord's</td>\n",
       "    </tr>\n",
       "    <tr>\n",
       "      <th>3</th>\n",
       "      <td>India</td>\n",
       "      <td>1.0</td>\n",
       "      <td>10 wickets</td>\n",
       "      <td>181.000000</td>\n",
       "      <td>0.0</td>\n",
       "      <td>2.0</td>\n",
       "      <td>South Africa</td>\n",
       "      <td>Leeds</td>\n",
       "    </tr>\n",
       "    <tr>\n",
       "      <th>4</th>\n",
       "      <td>India</td>\n",
       "      <td>0.0</td>\n",
       "      <td>4 wickets</td>\n",
       "      <td>7.000000</td>\n",
       "      <td>1.0</td>\n",
       "      <td>1.0</td>\n",
       "      <td>New Zealand</td>\n",
       "      <td>Manchester</td>\n",
       "    </tr>\n",
       "    <tr>\n",
       "      <th>...</th>\n",
       "      <td>...</td>\n",
       "      <td>...</td>\n",
       "      <td>...</td>\n",
       "      <td>...</td>\n",
       "      <td>...</td>\n",
       "      <td>...</td>\n",
       "      <td>...</td>\n",
       "      <td>...</td>\n",
       "    </tr>\n",
       "    <tr>\n",
       "      <th>979</th>\n",
       "      <td>India</td>\n",
       "      <td>NaN</td>\n",
       "      <td>NaN</td>\n",
       "      <td>40.634497</td>\n",
       "      <td>NaN</td>\n",
       "      <td>NaN</td>\n",
       "      <td>South Africa</td>\n",
       "      <td>Lucknow</td>\n",
       "    </tr>\n",
       "    <tr>\n",
       "      <th>980</th>\n",
       "      <td>India</td>\n",
       "      <td>NaN</td>\n",
       "      <td>NaN</td>\n",
       "      <td>40.634497</td>\n",
       "      <td>NaN</td>\n",
       "      <td>NaN</td>\n",
       "      <td>South Africa</td>\n",
       "      <td>Kolkata</td>\n",
       "    </tr>\n",
       "    <tr>\n",
       "      <th>981</th>\n",
       "      <td>India</td>\n",
       "      <td>0.0</td>\n",
       "      <td>66 runs</td>\n",
       "      <td>40.634497</td>\n",
       "      <td>0.0</td>\n",
       "      <td>2.0</td>\n",
       "      <td>Australia</td>\n",
       "      <td>Sydney</td>\n",
       "    </tr>\n",
       "    <tr>\n",
       "      <th>982</th>\n",
       "      <td>India</td>\n",
       "      <td>0.0</td>\n",
       "      <td>51 runs</td>\n",
       "      <td>40.634497</td>\n",
       "      <td>0.0</td>\n",
       "      <td>2.0</td>\n",
       "      <td>Australia</td>\n",
       "      <td>Sydney</td>\n",
       "    </tr>\n",
       "    <tr>\n",
       "      <th>983</th>\n",
       "      <td>India</td>\n",
       "      <td>1.0</td>\n",
       "      <td>13 runs</td>\n",
       "      <td>40.634497</td>\n",
       "      <td>1.0</td>\n",
       "      <td>1.0</td>\n",
       "      <td>Australia</td>\n",
       "      <td>Canberra</td>\n",
       "    </tr>\n",
       "  </tbody>\n",
       "</table>\n",
       "<p>984 rows × 8 columns</p>\n",
       "</div>"
      ],
      "text/plain": [
       "      team  result      margin          br  toss  bat    opposition  \\\n",
       "0    India     0.0   4 wickets   23.000000   0.0  NaN       England   \n",
       "1    India     0.0   6 wickets   37.000000   1.0  1.0       England   \n",
       "2    India     0.0    202 runs   40.634497   0.0  2.0       England   \n",
       "3    India     1.0  10 wickets  181.000000   0.0  2.0  South Africa   \n",
       "4    India     0.0   4 wickets    7.000000   1.0  1.0   New Zealand   \n",
       "..     ...     ...         ...         ...   ...  ...           ...   \n",
       "979  India     NaN         NaN   40.634497   NaN  NaN  South Africa   \n",
       "980  India     NaN         NaN   40.634497   NaN  NaN  South Africa   \n",
       "981  India     0.0     66 runs   40.634497   0.0  2.0     Australia   \n",
       "982  India     0.0     51 runs   40.634497   0.0  2.0     Australia   \n",
       "983  India     1.0     13 runs   40.634497   1.0  1.0     Australia   \n",
       "\n",
       "         ground  \n",
       "0         Leeds  \n",
       "1      The Oval  \n",
       "2        Lord's  \n",
       "3         Leeds  \n",
       "4    Manchester  \n",
       "..          ...  \n",
       "979     Lucknow  \n",
       "980     Kolkata  \n",
       "981      Sydney  \n",
       "982      Sydney  \n",
       "983    Canberra  \n",
       "\n",
       "[984 rows x 8 columns]"
      ]
     },
     "execution_count": 14,
     "metadata": {},
     "output_type": "execute_result"
    }
   ],
   "source": [
    "df"
   ]
  },
  {
   "cell_type": "code",
   "execution_count": 15,
   "metadata": {},
   "outputs": [],
   "source": [
    "df = df.apply(lambda x:x.fillna(x.value_counts().index[0]))"
   ]
  },
  {
   "cell_type": "code",
   "execution_count": 16,
   "metadata": {},
   "outputs": [
    {
     "data": {
      "text/plain": [
       "team          0\n",
       "result        0\n",
       "margin        0\n",
       "br            0\n",
       "toss          0\n",
       "bat           0\n",
       "opposition    0\n",
       "ground        0\n",
       "dtype: int64"
      ]
     },
     "execution_count": 16,
     "metadata": {},
     "output_type": "execute_result"
    }
   ],
   "source": [
    "df.isnull().sum()"
   ]
  },
  {
   "cell_type": "code",
   "execution_count": 17,
   "metadata": {},
   "outputs": [
    {
     "data": {
      "text/html": [
       "<div>\n",
       "<style scoped>\n",
       "    .dataframe tbody tr th:only-of-type {\n",
       "        vertical-align: middle;\n",
       "    }\n",
       "\n",
       "    .dataframe tbody tr th {\n",
       "        vertical-align: top;\n",
       "    }\n",
       "\n",
       "    .dataframe thead th {\n",
       "        text-align: right;\n",
       "    }\n",
       "</style>\n",
       "<table border=\"1\" class=\"dataframe\">\n",
       "  <thead>\n",
       "    <tr style=\"text-align: right;\">\n",
       "      <th></th>\n",
       "      <th>team</th>\n",
       "      <th>result</th>\n",
       "      <th>margin</th>\n",
       "      <th>br</th>\n",
       "      <th>toss</th>\n",
       "      <th>bat</th>\n",
       "      <th>opposition</th>\n",
       "      <th>ground</th>\n",
       "    </tr>\n",
       "  </thead>\n",
       "  <tbody>\n",
       "    <tr>\n",
       "      <th>0</th>\n",
       "      <td>India</td>\n",
       "      <td>0.0</td>\n",
       "      <td>4 wickets</td>\n",
       "      <td>23.000000</td>\n",
       "      <td>0.0</td>\n",
       "      <td>2.0</td>\n",
       "      <td>England</td>\n",
       "      <td>Leeds</td>\n",
       "    </tr>\n",
       "    <tr>\n",
       "      <th>1</th>\n",
       "      <td>India</td>\n",
       "      <td>0.0</td>\n",
       "      <td>6 wickets</td>\n",
       "      <td>37.000000</td>\n",
       "      <td>1.0</td>\n",
       "      <td>1.0</td>\n",
       "      <td>England</td>\n",
       "      <td>The Oval</td>\n",
       "    </tr>\n",
       "    <tr>\n",
       "      <th>2</th>\n",
       "      <td>India</td>\n",
       "      <td>0.0</td>\n",
       "      <td>202 runs</td>\n",
       "      <td>40.634497</td>\n",
       "      <td>0.0</td>\n",
       "      <td>2.0</td>\n",
       "      <td>England</td>\n",
       "      <td>Lord's</td>\n",
       "    </tr>\n",
       "    <tr>\n",
       "      <th>3</th>\n",
       "      <td>India</td>\n",
       "      <td>1.0</td>\n",
       "      <td>10 wickets</td>\n",
       "      <td>181.000000</td>\n",
       "      <td>0.0</td>\n",
       "      <td>2.0</td>\n",
       "      <td>South Africa</td>\n",
       "      <td>Leeds</td>\n",
       "    </tr>\n",
       "    <tr>\n",
       "      <th>4</th>\n",
       "      <td>India</td>\n",
       "      <td>0.0</td>\n",
       "      <td>4 wickets</td>\n",
       "      <td>7.000000</td>\n",
       "      <td>1.0</td>\n",
       "      <td>1.0</td>\n",
       "      <td>New Zealand</td>\n",
       "      <td>Manchester</td>\n",
       "    </tr>\n",
       "    <tr>\n",
       "      <th>...</th>\n",
       "      <td>...</td>\n",
       "      <td>...</td>\n",
       "      <td>...</td>\n",
       "      <td>...</td>\n",
       "      <td>...</td>\n",
       "      <td>...</td>\n",
       "      <td>...</td>\n",
       "      <td>...</td>\n",
       "    </tr>\n",
       "    <tr>\n",
       "      <th>979</th>\n",
       "      <td>India</td>\n",
       "      <td>1.0</td>\n",
       "      <td>6 wickets</td>\n",
       "      <td>40.634497</td>\n",
       "      <td>1.0</td>\n",
       "      <td>2.0</td>\n",
       "      <td>South Africa</td>\n",
       "      <td>Lucknow</td>\n",
       "    </tr>\n",
       "    <tr>\n",
       "      <th>980</th>\n",
       "      <td>India</td>\n",
       "      <td>1.0</td>\n",
       "      <td>6 wickets</td>\n",
       "      <td>40.634497</td>\n",
       "      <td>1.0</td>\n",
       "      <td>2.0</td>\n",
       "      <td>South Africa</td>\n",
       "      <td>Kolkata</td>\n",
       "    </tr>\n",
       "    <tr>\n",
       "      <th>981</th>\n",
       "      <td>India</td>\n",
       "      <td>0.0</td>\n",
       "      <td>66 runs</td>\n",
       "      <td>40.634497</td>\n",
       "      <td>0.0</td>\n",
       "      <td>2.0</td>\n",
       "      <td>Australia</td>\n",
       "      <td>Sydney</td>\n",
       "    </tr>\n",
       "    <tr>\n",
       "      <th>982</th>\n",
       "      <td>India</td>\n",
       "      <td>0.0</td>\n",
       "      <td>51 runs</td>\n",
       "      <td>40.634497</td>\n",
       "      <td>0.0</td>\n",
       "      <td>2.0</td>\n",
       "      <td>Australia</td>\n",
       "      <td>Sydney</td>\n",
       "    </tr>\n",
       "    <tr>\n",
       "      <th>983</th>\n",
       "      <td>India</td>\n",
       "      <td>1.0</td>\n",
       "      <td>13 runs</td>\n",
       "      <td>40.634497</td>\n",
       "      <td>1.0</td>\n",
       "      <td>1.0</td>\n",
       "      <td>Australia</td>\n",
       "      <td>Canberra</td>\n",
       "    </tr>\n",
       "  </tbody>\n",
       "</table>\n",
       "<p>984 rows × 8 columns</p>\n",
       "</div>"
      ],
      "text/plain": [
       "      team  result      margin          br  toss  bat    opposition  \\\n",
       "0    India     0.0   4 wickets   23.000000   0.0  2.0       England   \n",
       "1    India     0.0   6 wickets   37.000000   1.0  1.0       England   \n",
       "2    India     0.0    202 runs   40.634497   0.0  2.0       England   \n",
       "3    India     1.0  10 wickets  181.000000   0.0  2.0  South Africa   \n",
       "4    India     0.0   4 wickets    7.000000   1.0  1.0   New Zealand   \n",
       "..     ...     ...         ...         ...   ...  ...           ...   \n",
       "979  India     1.0   6 wickets   40.634497   1.0  2.0  South Africa   \n",
       "980  India     1.0   6 wickets   40.634497   1.0  2.0  South Africa   \n",
       "981  India     0.0     66 runs   40.634497   0.0  2.0     Australia   \n",
       "982  India     0.0     51 runs   40.634497   0.0  2.0     Australia   \n",
       "983  India     1.0     13 runs   40.634497   1.0  1.0     Australia   \n",
       "\n",
       "         ground  \n",
       "0         Leeds  \n",
       "1      The Oval  \n",
       "2        Lord's  \n",
       "3         Leeds  \n",
       "4    Manchester  \n",
       "..          ...  \n",
       "979     Lucknow  \n",
       "980     Kolkata  \n",
       "981      Sydney  \n",
       "982      Sydney  \n",
       "983    Canberra  \n",
       "\n",
       "[984 rows x 8 columns]"
      ]
     },
     "execution_count": 17,
     "metadata": {},
     "output_type": "execute_result"
    }
   ],
   "source": [
    "df"
   ]
  },
  {
   "cell_type": "code",
   "execution_count": 18,
   "metadata": {},
   "outputs": [
    {
     "name": "stderr",
     "output_type": "stream",
     "text": [
      ":FEATURES DONE:                    |█████████████████████| [100%]   00:01  -> (00:00 left)\n",
      ":PAIRWISE DONE:                    |█████████████████████| [100%]   00:00  -> (00:00 left)\n"
     ]
    },
    {
     "name": "stdout",
     "output_type": "stream",
     "text": [
      "Creating Associations graph... DONE!\n",
      "Report SWEETVIZ_REPORT.html was generated! NOTEBOOK/COLAB USERS: no browser will pop up, the report is saved in your notebook/colab files.\n"
     ]
    }
   ],
   "source": [
    "#SWEETVIZ Repot\n",
    "import sweetviz as sv\n",
    "dataset_report = sv.analyze(df)\n",
    "dataset_report.show_html()"
   ]
  },
  {
   "cell_type": "code",
   "execution_count": 19,
   "metadata": {},
   "outputs": [
    {
     "data": {
      "text/plain": [
       "Text(0, 0.5, 'Count')"
      ]
     },
     "execution_count": 19,
     "metadata": {},
     "output_type": "execute_result"
    },
    {
     "data": {
      "image/png": "[encoded data removed]",
      "text/plain": [
       "<Figure size 600x300 with 1 Axes>"
      ]
     },
     "metadata": {},
     "output_type": "display_data"
    }
   ],
   "source": [
    "df['toss'].value_counts().plot.bar(figsize=(6,3),title='Tosses win/lost')\n",
    "plt.xlabel('toss')\n",
    "plt.ylabel('Count')"
   ]
  },
  {
   "cell_type": "code",
   "execution_count": 20,
   "metadata": {},
   "outputs": [
    {
     "data": {
      "text/plain": [
       "(array([  0.,  20.,  40.,  60.,  80., 100., 120., 140.]),\n",
       " [Text(0, 0, ''),\n",
       "  Text(0, 0, ''),\n",
       "  Text(0, 0, ''),\n",
       "  Text(0, 0, ''),\n",
       "  Text(0, 0, ''),\n",
       "  Text(0, 0, ''),\n",
       "  Text(0, 0, ''),\n",
       "  Text(0, 0, '')])"
      ]
     },
     "execution_count": 20,
     "metadata": {},
     "output_type": "execute_result"
    },
    {
     "data": {
      "image/png": "[encoded data removed]",
      "text/plain": [
       "<Figure size 2000x300 with 1 Axes>"
      ]
     },
     "metadata": {},
     "output_type": "display_data"
    }
   ],
   "source": [
    "plt.figure(figsize=(20,3), facecolor='w')\n",
    "sns.countplot(x=\"opposition\",data=df,hue=\"result\")\n",
    "plt.title(\"India's win~lost record\", size=20)\n",
    "plt.xlabel(\"opposition\", size=10)\n",
    "plt.ylabel(\"Win Lost Count\", size=10)\n",
    "plt.xticks(size=8)\n",
    "plt.yticks(size=8)"
   ]
  },
  {
   "cell_type": "code",
   "execution_count": 21,
   "metadata": {},
   "outputs": [
    {
     "data": {
      "text/plain": [
       "(array([  0.,  20.,  40.,  60.,  80., 100., 120., 140.]),\n",
       " [Text(0, 0, ''),\n",
       "  Text(0, 0, ''),\n",
       "  Text(0, 0, ''),\n",
       "  Text(0, 0, ''),\n",
       "  Text(0, 0, ''),\n",
       "  Text(0, 0, ''),\n",
       "  Text(0, 0, ''),\n",
       "  Text(0, 0, '')])"
      ]
     },
     "execution_count": 21,
     "metadata": {},
     "output_type": "execute_result"
    },
    {
     "data": {
      "image/png": "[encoded data removed]",
      "text/plain": [
       "<Figure size 2000x300 with 1 Axes>"
      ]
     },
     "metadata": {},
     "output_type": "display_data"
    }
   ],
   "source": [
    "plt.figure(figsize=(20,3), facecolor='w')\n",
    "sns.countplot(x=\"opposition\",data=df,hue=\"bat\")\n",
    "plt.title(\"India's data of selecting batting or bowling for other teams \", size=20)\n",
    "plt.xlabel(\"opposition\", size=10)\n",
    "plt.ylabel(\"Win Lost Count\", size=10)\n",
    "plt.xticks(size=8)\n",
    "plt.yticks(size=8)"
   ]
  },
  {
   "cell_type": "code",
   "execution_count": 22,
   "metadata": {},
   "outputs": [
    {
     "data": {
      "text/plain": [
       "(array([  0.,  50., 100., 150., 200., 250., 300., 350., 400.]),\n",
       " [Text(0, 0, ''),\n",
       "  Text(0, 0, ''),\n",
       "  Text(0, 0, ''),\n",
       "  Text(0, 0, ''),\n",
       "  Text(0, 0, ''),\n",
       "  Text(0, 0, ''),\n",
       "  Text(0, 0, ''),\n",
       "  Text(0, 0, ''),\n",
       "  Text(0, 0, '')])"
      ]
     },
     "execution_count": 22,
     "metadata": {},
     "output_type": "execute_result"
    },
    {
     "data": {
      "image/png": "[encoded data removed]",
      "text/plain": [
       "<Figure size 600x300 with 1 Axes>"
      ]
     },
     "metadata": {},
     "output_type": "display_data"
    }
   ],
   "source": [
    "plt.figure(figsize=(6,3), facecolor='w')\n",
    "sns.countplot(x=\"result\",data=df,hue=\"bat\")\n",
    "plt.title(\"India's record of results while doing batting or bowling first\", size=10)\n",
    "plt.xlabel(\"result\", size=10)\n",
    "plt.ylabel(\"Win Lost Count\", size=10)\n",
    "plt.xticks(size=8)\n",
    "plt.yticks(size=8)"
   ]
  },
  {
   "cell_type": "code",
   "execution_count": 23,
   "metadata": {},
   "outputs": [
    {
     "data": {
      "text/html": [
       "<div>\n",
       "<style scoped>\n",
       "    .dataframe tbody tr th:only-of-type {\n",
       "        vertical-align: middle;\n",
       "    }\n",
       "\n",
       "    .dataframe tbody tr th {\n",
       "        vertical-align: top;\n",
       "    }\n",
       "\n",
       "    .dataframe thead th {\n",
       "        text-align: right;\n",
       "    }\n",
       "</style>\n",
       "<table border=\"1\" class=\"dataframe\">\n",
       "  <thead>\n",
       "    <tr style=\"text-align: right;\">\n",
       "      <th></th>\n",
       "      <th></th>\n",
       "      <th>result</th>\n",
       "      <th>br</th>\n",
       "      <th>toss</th>\n",
       "      <th>bat</th>\n",
       "    </tr>\n",
       "    <tr>\n",
       "      <th>opposition</th>\n",
       "      <th>ground</th>\n",
       "      <th></th>\n",
       "      <th></th>\n",
       "      <th></th>\n",
       "      <th></th>\n",
       "    </tr>\n",
       "  </thead>\n",
       "  <tbody>\n",
       "    <tr>\n",
       "      <th>Abu Dhabi</th>\n",
       "      <th>Dhabi</th>\n",
       "      <td>1.0</td>\n",
       "      <td>40.634497</td>\n",
       "      <td>1.0</td>\n",
       "      <td>1.0</td>\n",
       "    </tr>\n",
       "    <tr>\n",
       "      <th rowspan=\"2\" valign=\"top\">Afghanistan</th>\n",
       "      <th>Dhaka</th>\n",
       "      <td>1.0</td>\n",
       "      <td>106.000000</td>\n",
       "      <td>1.0</td>\n",
       "      <td>2.0</td>\n",
       "    </tr>\n",
       "    <tr>\n",
       "      <th>Southampton</th>\n",
       "      <td>1.0</td>\n",
       "      <td>40.634497</td>\n",
       "      <td>1.0</td>\n",
       "      <td>1.0</td>\n",
       "    </tr>\n",
       "    <tr>\n",
       "      <th rowspan=\"2\" valign=\"top\">Australia</th>\n",
       "      <th>Adelaide</th>\n",
       "      <td>2.0</td>\n",
       "      <td>182.903491</td>\n",
       "      <td>2.0</td>\n",
       "      <td>12.0</td>\n",
       "    </tr>\n",
       "    <tr>\n",
       "      <th>Ahmedabad</th>\n",
       "      <td>2.0</td>\n",
       "      <td>67.634497</td>\n",
       "      <td>1.0</td>\n",
       "      <td>5.0</td>\n",
       "    </tr>\n",
       "    <tr>\n",
       "      <th>...</th>\n",
       "      <th>...</th>\n",
       "      <td>...</td>\n",
       "      <td>...</td>\n",
       "      <td>...</td>\n",
       "      <td>...</td>\n",
       "    </tr>\n",
       "    <tr>\n",
       "      <th rowspan=\"5\" valign=\"top\">Zimbabwe</th>\n",
       "      <th>Pune</th>\n",
       "      <td>1.0</td>\n",
       "      <td>27.000000</td>\n",
       "      <td>1.0</td>\n",
       "      <td>2.0</td>\n",
       "    </tr>\n",
       "    <tr>\n",
       "      <th>Rajkot</th>\n",
       "      <td>1.0</td>\n",
       "      <td>40.634497</td>\n",
       "      <td>0.0</td>\n",
       "      <td>1.0</td>\n",
       "    </tr>\n",
       "    <tr>\n",
       "      <th>Sharjah</th>\n",
       "      <td>4.0</td>\n",
       "      <td>266.268994</td>\n",
       "      <td>4.0</td>\n",
       "      <td>9.0</td>\n",
       "    </tr>\n",
       "    <tr>\n",
       "      <th>Singapore</th>\n",
       "      <td>1.0</td>\n",
       "      <td>40.634497</td>\n",
       "      <td>0.0</td>\n",
       "      <td>1.0</td>\n",
       "    </tr>\n",
       "    <tr>\n",
       "      <th>Vadodara</th>\n",
       "      <td>1.0</td>\n",
       "      <td>40.634497</td>\n",
       "      <td>0.0</td>\n",
       "      <td>1.0</td>\n",
       "    </tr>\n",
       "  </tbody>\n",
       "</table>\n",
       "<p>390 rows × 4 columns</p>\n",
       "</div>"
      ],
      "text/plain": [
       "                         result          br  toss   bat\n",
       "opposition  ground                                     \n",
       "Abu Dhabi   Dhabi           1.0   40.634497   1.0   1.0\n",
       "Afghanistan Dhaka           1.0  106.000000   1.0   2.0\n",
       "            Southampton     1.0   40.634497   1.0   1.0\n",
       "Australia   Adelaide        2.0  182.903491   2.0  12.0\n",
       "            Ahmedabad       2.0   67.634497   1.0   5.0\n",
       "...                         ...         ...   ...   ...\n",
       "Zimbabwe    Pune            1.0   27.000000   1.0   2.0\n",
       "            Rajkot          1.0   40.634497   0.0   1.0\n",
       "            Sharjah         4.0  266.268994   4.0   9.0\n",
       "            Singapore       1.0   40.634497   0.0   1.0\n",
       "            Vadodara        1.0   40.634497   0.0   1.0\n",
       "\n",
       "[390 rows x 4 columns]"
      ]
     },
     "execution_count": 23,
     "metadata": {},
     "output_type": "execute_result"
    }
   ],
   "source": [
    "grouped = df.groupby([\"opposition\", \"ground\"])\n",
    "grouped.sum()"
   ]
  },
  {
   "cell_type": "code",
   "execution_count": 24,
   "metadata": {},
   "outputs": [
    {
     "name": "stdout",
     "output_type": "stream",
     "text": [
      "opposition   ground     \n",
      "Abu Dhabi    Dhabi          1\n",
      "Afghanistan  Dhaka          1\n",
      "             Southampton    1\n",
      "Australia    Adelaide       6\n",
      "             Ahmedabad      3\n",
      "                           ..\n",
      "Zimbabwe     Pune           1\n",
      "             Rajkot         1\n",
      "             Sharjah        5\n",
      "             Singapore      1\n",
      "             Vadodara       1\n",
      "Name: ground, Length: 390, dtype: int64\n"
     ]
    }
   ],
   "source": [
    "ground_count = df.groupby([\"opposition\",\"ground\"])[\"ground\"].count()\n",
    "print(ground_count)"
   ]
  },
  {
   "cell_type": "code",
   "execution_count": 25,
   "metadata": {},
   "outputs": [
    {
     "name": "stdout",
     "output_type": "stream",
     "text": [
      "      opposition                                             ground\n",
      "0      Abu Dhabi                                            [Dhabi]\n",
      "1    Afghanistan                               [Dhaka, Southampton]\n",
      "2      Australia  [Melbourne, Sydney, Sydney, Melbourne, Sydney,...\n",
      "3     Bangladesh  [Chattogram, Chandigarh, Sharjah, Colombo, Dha...\n",
      "4          Dubai                                            [Dubai]\n",
      "5        England  [Leeds, The Oval, Lord's, Ahmedabad, Jalandhar...\n",
      "6           Gros                                            [Islet]\n",
      "7      Hong kong                                   [Karachi, Dubai]\n",
      "8      Hyderabad       [Hyderabad, Hyderabad, Hyderabad, Hyderabad]\n",
      "9        Ireland                     [Belfast, Bengaluru, Hamilton]\n",
      "10         Kenya  [Cuttack, Bengaluru, Gwalior, Kolkata, Bristol...\n",
      "11         Kuala                                   [Lumpur, Lumpur]\n",
      "12       Nairobi                        [Nairobi, Nairobi, Nairobi]\n",
      "13       Namibia                                 [Pietermaritzburg]\n",
      "14   New Zealand  [Manchester, Christchurch, Auckland, Leeds, Pe...\n",
      "15      Pakistan  [Quetta, Sialkot, Sahiwal, Gujranwala, Multan,...\n",
      "16          Port                                        [Elizabeth]\n",
      "17       Port of                                     [Spain, Spain]\n",
      "18      Scotland                                          [Glasgow]\n",
      "19  South Africa  [Leeds, Kolkata, Gwalior, Delhi, Adelaide, Geo...\n",
      "20     Sri Lanka  [Manchester, Amritsar, Delhi, Bengaluru, Sharj...\n",
      "21     Tunbridge                                       [Wellington]\n",
      "22        U.A.E.                         [Sharjah, Dambulla, Perth]\n",
      "23   West Indies  [Birmingham, Spain, Albion, George Town, Manch...\n",
      "24      Zimbabwe  [Leicester, Mumbai, Ahmedabad, Hamilton, Harar...\n"
     ]
    }
   ],
   "source": [
    "grouped_df = df.groupby(\"opposition\")\n",
    "grouped_lists = grouped_df[\"ground\"].apply(list)\n",
    "grouped_lists = grouped_lists.reset_index()\n",
    "print(grouped_lists)"
   ]
  },
  {
   "cell_type": "code",
   "execution_count": 26,
   "metadata": {},
   "outputs": [
    {
     "data": {
      "text/plain": [
       "Sri Lanka       174\n",
       "West Indies     126\n",
       "Pakistan        125\n",
       "Australia       125\n",
       "New Zealand     113\n",
       "England          98\n",
       "South Africa     91\n",
       "Zimbabwe         58\n",
       "Bangladesh       35\n",
       "Kenya            11\n",
       "Hyderabad         4\n",
       "Ireland           3\n",
       "Nairobi           3\n",
       "U.A.E.            3\n",
       "Port of           2\n",
       "Kuala             2\n",
       "Afghanistan       2\n",
       "Hong kong         2\n",
       "Port              1\n",
       "Dubai             1\n",
       "Gros              1\n",
       "Abu Dhabi         1\n",
       "Scotland          1\n",
       "Namibia           1\n",
       "Tunbridge         1\n",
       "Name: opposition, dtype: int64"
      ]
     },
     "execution_count": 26,
     "metadata": {},
     "output_type": "execute_result"
    }
   ],
   "source": [
    "df[\"opposition\"].value_counts()"
   ]
  },
  {
   "cell_type": "code",
   "execution_count": 27,
   "metadata": {},
   "outputs": [
    {
     "data": {
      "text/plain": [
       "Sharjah       72\n",
       "Colombo       70\n",
       "Dhaka         42\n",
       "Melbourne     22\n",
       "Kolkata       22\n",
       "              ..\n",
       "Taunton        1\n",
       "Jammu          1\n",
       "Chelmsford     1\n",
       "Moratuwa       1\n",
       "Glasgow        1\n",
       "Name: ground, Length: 112, dtype: int64"
      ]
     },
     "execution_count": 27,
     "metadata": {},
     "output_type": "execute_result"
    }
   ],
   "source": [
    "df[\"ground\"].value_counts()"
   ]
  },
  {
   "cell_type": "code",
   "execution_count": null,
   "metadata": {},
   "outputs": [],
   "source": [
    " "
   ]
  }
 ],
 "metadata": {
  "kernelspec": {
   "display_name": "Python 3",
   "language": "python",
   "name": "python3"
  },
  "language_info": {
   "codemirror_mode": {
    "name": "ipython",
    "version": 3
   },
   "file_extension": ".py",
   "mimetype": "text/x-python",
   "name": "python",
   "nbconvert_exporter": "python",
   "pygments_lexer": "ipython3",
   "version": "3.7.9"
  }
 },
 "nbformat": 4,
 "nbformat_minor": 4
}

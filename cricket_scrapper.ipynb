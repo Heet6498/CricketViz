{
 "cells": [
  {
   "cell_type": "code",
   "execution_count": 6,
   "metadata": {},
   "outputs": [],
   "source": [
    "import bs4 , requests, re\n",
    "import numpy as np\n",
    "import pandas as pd\n",
    "import datetime"
   ]
  },
  {
   "cell_type": "code",
   "execution_count": 7,
   "metadata": {},
   "outputs": [],
   "source": [
    "today = str(datetime.datetime.now())[0:10]"
   ]
  },
  {
   "cell_type": "code",
   "execution_count": 22,
   "metadata": {},
   "outputs": [],
   "source": [
    "class cricScrap():\n",
    "    def __init__(self, url, scraped_date):\n",
    "        self.scraped_date = scraped_date\n",
    "        self.url = url\n",
    "        \n",
    "        self.soup = self.getHTML()\n",
    "        self.cric_table = self.getCricData()\n",
    "        \n",
    "    def getHTML(self):\n",
    "        res = requests.get(self.url)\n",
    "        soup = bs4.BeautifulSoup(res.text)\n",
    "        return soup\n",
    "    \n",
    "    def getCricData(self):\n",
    "        table = self.soup.find_all({'tr' : 'table table-bordered table-striped table-hover player-table tablesorter'})\n",
    "        cric_classes = [c.get_attribute_list('class') for c in table][1:]\n",
    "        \n",
    "        cric_vals = []\n",
    "        for player in cric_classes:\n",
    "            cric_vals.append(self.soup.find_all('tr', {'class' : 'data1'}))\n",
    "            \n",
    "        dfs = []\n",
    "        for d in cric_vals:\n",
    "            if len(d) == 10:\n",
    "                df_data = {\n",
    "                'team' : d[0],\n",
    "                'result' : d[1],\n",
    "                'margin' : np.nan,\n",
    "                'br' : np.nan,\n",
    "                'toss' : d[2],\n",
    "                'bat' : d[3],\n",
    "                'opposition' : d[5],\n",
    "                'ground' : d[6],\n",
    "                'date' : d[-1],\n",
    "                'scrapped_date' : today\n",
    "            }\n",
    "            df = pd.DataFrame([df_data])\n",
    "            dfs.append(df)\n",
    "            \n",
    "        if len(d) == 12:\n",
    "            df_data = [{\n",
    "            'team' : d[0],\n",
    "            'result' : d[1],\n",
    "            'margin' : ' '.join(d[2:4]),\n",
    "            'br' : np.nan,\n",
    "            'toss' : d[4],\n",
    "            'bat' : d[5],\n",
    "            'opposition' :d[7],\n",
    "            'ground' : d[8],\n",
    "            'date' : d[-1],\n",
    "            'scrapped_date' : today\n",
    "        }]\n",
    "        df = pd.DataFrame(df_data)\n",
    "        dfs.append(df)\n",
    "        \n",
    "        if len(d) == 14:\n",
    "            df_data = [{\n",
    "            'team' : d[0],\n",
    "            'result' : d[1],\n",
    "            'margin' : ' '.join(d[2:4]),\n",
    "            'br' : d[4],\n",
    "            'toss' : d[5],\n",
    "            'bat' : d[6],\n",
    "            'opposition' : ' '.join(d[8:10]),\n",
    "            'ground' : d[-4],\n",
    "            'date' : d[-1],\n",
    "            'scrapped_date' : today\n",
    "        }]\n",
    "        df = pd.DataFrame(df_data)\n",
    "        dfs.append(df)\n",
    "        \n",
    "        if len(d) == 15:\n",
    "            df_data = [{\n",
    "            'team' : d[0],\n",
    "            'result' : d[1],\n",
    "            'margin' : ' '.join(d[2:4]),\n",
    "            'br' : d[4],\n",
    "            'toss' : d[5],\n",
    "            'bat' : d[6],\n",
    "            'opposition' : ' '.join(d[8:10]),\n",
    "            'ground' : d[-4],\n",
    "            'date' : d[-1],\n",
    "            'scrapped_date' : today\n",
    "        }]\n",
    "        df = pd.DataFrame(df_data)\n",
    "        dfs.append(df)\n",
    "        \n",
    "        if len(d) == 13:\n",
    "            df_data = [{\n",
    "            'team' : d[0],\n",
    "            'result' : d[1],\n",
    "            'margin' : ' '.join(d[2:4]),\n",
    "            'br' : d[4],\n",
    "            'toss' : d[4],\n",
    "            'bat' : d[5],\n",
    "            'opposition' : ' '.join(d[8:10]),\n",
    "            'ground' : d[-4],\n",
    "            'date' : d[-1],\n",
    "            'scrapped_date' : today\n",
    "        }]\n",
    "        df = pd.DataFrame(df_data)\n",
    "        dfs.append(df)\n",
    "        return pd.concat(dfs)"
   ]
  },
  {
   "cell_type": "code",
   "execution_count": 23,
   "metadata": {},
   "outputs": [
    {
     "ename": "UnboundLocalError",
     "evalue": "local variable 'df_data' referenced before assignment",
     "output_type": "error",
     "traceback": [
      "\u001b[1;31m---------------------------------------------------------------------------\u001b[0m",
      "\u001b[1;31mUnboundLocalError\u001b[0m                         Traceback (most recent call last)",
      "\u001b[1;32m<timed exec>\u001b[0m in \u001b[0;36m<module>\u001b[1;34m\u001b[0m\n",
      "\u001b[1;32m<ipython-input-22-08bfbc6a09ed>\u001b[0m in \u001b[0;36m__init__\u001b[1;34m(self, url, scraped_date)\u001b[0m\n\u001b[0;32m      5\u001b[0m \u001b[1;33m\u001b[0m\u001b[0m\n\u001b[0;32m      6\u001b[0m         \u001b[0mself\u001b[0m\u001b[1;33m.\u001b[0m\u001b[0msoup\u001b[0m \u001b[1;33m=\u001b[0m \u001b[0mself\u001b[0m\u001b[1;33m.\u001b[0m\u001b[0mgetHTML\u001b[0m\u001b[1;33m(\u001b[0m\u001b[1;33m)\u001b[0m\u001b[1;33m\u001b[0m\u001b[1;33m\u001b[0m\u001b[0m\n\u001b[1;32m----> 7\u001b[1;33m         \u001b[0mself\u001b[0m\u001b[1;33m.\u001b[0m\u001b[0mcric_table\u001b[0m \u001b[1;33m=\u001b[0m \u001b[0mself\u001b[0m\u001b[1;33m.\u001b[0m\u001b[0mgetCricData\u001b[0m\u001b[1;33m(\u001b[0m\u001b[1;33m)\u001b[0m\u001b[1;33m\u001b[0m\u001b[1;33m\u001b[0m\u001b[0m\n\u001b[0m\u001b[0;32m      8\u001b[0m \u001b[1;33m\u001b[0m\u001b[0m\n\u001b[0;32m      9\u001b[0m     \u001b[1;32mdef\u001b[0m \u001b[0mgetHTML\u001b[0m\u001b[1;33m(\u001b[0m\u001b[0mself\u001b[0m\u001b[1;33m)\u001b[0m\u001b[1;33m:\u001b[0m\u001b[1;33m\u001b[0m\u001b[1;33m\u001b[0m\u001b[0m\n",
      "\u001b[1;32m<ipython-input-22-08bfbc6a09ed>\u001b[0m in \u001b[0;36mgetCricData\u001b[1;34m(self)\u001b[0m\n\u001b[0;32m     35\u001b[0m                 \u001b[1;34m'scrapped_date'\u001b[0m \u001b[1;33m:\u001b[0m \u001b[0mtoday\u001b[0m\u001b[1;33m\u001b[0m\u001b[1;33m\u001b[0m\u001b[0m\n\u001b[0;32m     36\u001b[0m             }\n\u001b[1;32m---> 37\u001b[1;33m             \u001b[0mdf\u001b[0m \u001b[1;33m=\u001b[0m \u001b[0mpd\u001b[0m\u001b[1;33m.\u001b[0m\u001b[0mDataFrame\u001b[0m\u001b[1;33m(\u001b[0m\u001b[1;33m[\u001b[0m\u001b[0mdf_data\u001b[0m\u001b[1;33m]\u001b[0m\u001b[1;33m)\u001b[0m\u001b[1;33m\u001b[0m\u001b[1;33m\u001b[0m\u001b[0m\n\u001b[0m\u001b[0;32m     38\u001b[0m             \u001b[0mdfs\u001b[0m\u001b[1;33m.\u001b[0m\u001b[0mappend\u001b[0m\u001b[1;33m(\u001b[0m\u001b[0mdf\u001b[0m\u001b[1;33m)\u001b[0m\u001b[1;33m\u001b[0m\u001b[1;33m\u001b[0m\u001b[0m\n\u001b[0;32m     39\u001b[0m \u001b[1;33m\u001b[0m\u001b[0m\n",
      "\u001b[1;31mUnboundLocalError\u001b[0m: local variable 'df_data' referenced before assignment"
     ]
    }
   ],
   "source": [
    "%time cric = cricScrap(url = 'https://stats.espncricinfo.com/ci/engine/stats/index.html?class=2;home_or_away=1;home_or_away=2;home_or_away=3;team=6;template=results;type=team;view=results', scraped_date=today)"
   ]
  },
  {
   "cell_type": "code",
   "execution_count": 5,
   "metadata": {},
   "outputs": [
    {
     "ename": "NameError",
     "evalue": "name 'cric' is not defined",
     "output_type": "error",
     "traceback": [
      "\u001b[1;31m---------------------------------------------------------------------------\u001b[0m",
      "\u001b[1;31mNameError\u001b[0m                                 Traceback (most recent call last)",
      "\u001b[1;32m<ipython-input-5-9356b3efde38>\u001b[0m in \u001b[0;36m<module>\u001b[1;34m\u001b[0m\n\u001b[1;32m----> 1\u001b[1;33m \u001b[0mcric\u001b[0m\u001b[1;33m.\u001b[0m\u001b[0mcric_table\u001b[0m\u001b[1;33m\u001b[0m\u001b[1;33m\u001b[0m\u001b[0m\n\u001b[0m",
      "\u001b[1;31mNameError\u001b[0m: name 'cric' is not defined"
     ]
    }
   ],
   "source": [
    "cric.cric_table"
   ]
  },
  {
   "cell_type": "code",
   "execution_count": null,
   "metadata": {},
   "outputs": [],
   "source": []
  }
 ],
 "metadata": {
  "kernelspec": {
   "display_name": "Python 3",
   "language": "python",
   "name": "python3"
  },
  "language_info": {
   "codemirror_mode": {
    "name": "ipython",
    "version": 3
   },
   "file_extension": ".py",
   "mimetype": "text/x-python",
   "name": "python",
   "nbconvert_exporter": "python",
   "pygments_lexer": "ipython3",
   "version": "3.7.9"
  }
 },
 "nbformat": 4,
 "nbformat_minor": 4
}
